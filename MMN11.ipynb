{
  "nbformat": 4,
  "nbformat_minor": 0,
  "metadata": {
    "colab": {
      "provenance": [],
      "authorship_tag": "ABX9TyMhJwI8ni62RCrscKpCyk7s",
      "include_colab_link": true
    },
    "kernelspec": {
      "name": "python3",
      "display_name": "Python 3"
    },
    "language_info": {
      "name": "python"
    }
  },
  "cells": [
    {
      "cell_type": "markdown",
      "metadata": {
        "id": "view-in-github",
        "colab_type": "text"
      },
      "source": [
        "<a href=\"https://colab.research.google.com/github/rororoy/Learning-Machine-Learning/blob/main/MMN11.ipynb\" target=\"_parent\"><img src=\"https://colab.research.google.com/assets/colab-badge.svg\" alt=\"Open In Colab\"/></a>"
      ]
    },
    {
      "cell_type": "markdown",
      "source": [
        "# **MMN 11 - ROY LAVROV - 322492059**\n",
        "## **Handwritten Digit Classification**\n",
        "\n",
        "\n",
        "\n",
        "---\n",
        "\n",
        "\n",
        "\n",
        "The training MNIST dataset split into two subsets of images:\n",
        "**60,000** - for training\n",
        "**10,000** - for testing"
      ],
      "metadata": {
        "id": "PUIdvkZJFyaa"
      }
    },
    {
      "cell_type": "markdown",
      "source": [
        "### **Importing the data MNIST set:**"
      ],
      "metadata": {
        "id": "2jEE04k8Li82"
      }
    },
    {
      "cell_type": "code",
      "source": [
        "import numpy as np\n",
        "from sklearn.datasets import fetch_openml\n",
        "from sklearn.model_selection import train_test_split\n",
        "\n",
        "# Fetch MNIST dataset\n",
        "print(\"Loading MNIST dataset...\")\n",
        "mnist = fetch_openml('mnist_784', version=1)\n",
        "# Access features (pixel values) and labels\n",
        "X, y = mnist['data'], mnist['target']\n",
        "\n",
        "# Convert string labels to integers\n",
        "y = y.astype(int)\n",
        "\n",
        "# Print original data shapes\n",
        "print(\"Original dataset shape:\", X.shape)\n",
        "print(\"Original labels shape:\", y.shape)\n",
        "\n",
        "# Normalize pixel values to [0, 1] range\n",
        "X = X / 255.0\n",
        "print(\"Data normalized to range [0, 1]\")"
      ],
      "metadata": {
        "colab": {
          "base_uri": "https://localhost:8080/"
        },
        "id": "qdepJ2bbIMRt",
        "outputId": "4fb68507-d11b-473e-a12c-2ed0544af261"
      },
      "execution_count": null,
      "outputs": [
        {
          "output_type": "stream",
          "name": "stdout",
          "text": [
            "Loading MNIST dataset...\n",
            "Original dataset shape: (70000, 784)\n",
            "Original labels shape: (70000,)\n",
            "Data normalized to range [0, 1]\n"
          ]
        }
      ]
    },
    {
      "cell_type": "markdown",
      "source": [
        "## **Splitting the training set:**\n"
      ],
      "metadata": {
        "id": "q0fu991mO2g2"
      }
    },
    {
      "cell_type": "code",
      "source": [
        "# Split into training and testing sets (60,000 for training, 10,000 for testing)\n",
        "X_train, X_test, y_train, y_test = train_test_split(X, y, train_size=60000, test_size=10000, random_state=42)\n",
        "\n",
        "print(\"Training set shape:\", X_train.shape)\n",
        "print(\"Testing set shape:\", X_test.shape)"
      ],
      "metadata": {
        "colab": {
          "base_uri": "https://localhost:8080/"
        },
        "id": "vKZnI6E7LhEN",
        "outputId": "69a07a61-c0d7-480c-ccb7-717f22b4a24a"
      },
      "execution_count": null,
      "outputs": [
        {
          "output_type": "stream",
          "name": "stdout",
          "text": [
            "Training set shape: (60000, 784)\n",
            "Testing set shape: (10000, 784)\n"
          ]
        }
      ]
    },
    {
      "cell_type": "code",
      "source": [
        "\n"
      ],
      "metadata": {
        "id": "midrK4UDOOyt"
      },
      "execution_count": null,
      "outputs": []
    }
  ]
}